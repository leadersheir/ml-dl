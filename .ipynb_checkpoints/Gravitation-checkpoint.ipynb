{
 "cells": [
  {
   "cell_type": "markdown",
   "id": "fc656bde",
   "metadata": {},
   "source": [
    "### Investigation\n",
    "We intend to investigate the interpretation of the escape velocity - whether it is the initial velocity a projectile must be launched at, or if it is the velocity that is obtained when the projectile reaches infinity. \n",
    "### Hypothesis\n",
    "We hypothesize the latter interpretation to be the correct one. However, to justify it's validity, the former interpertation must be falsified. We may show that by showing that the velocity becomes $0$ at a point where the value of the acceleration due to gravity $g$, is not zero."
   ]
  },
  {
   "cell_type": "code",
   "execution_count": 5,
   "id": "3ad8fc92",
   "metadata": {},
   "outputs": [],
   "source": [
    "G = 6.67e-11 # Nm^2/kg^2\n",
    "R = 6371e3 # m\n",
    "M = 5.972e24 # kg\n",
    "\n",
    "def g(x):\n",
    "    return (G*M)/(R+x)**2"
   ]
  },
  {
   "cell_type": "code",
   "execution_count": 9,
   "id": "e09fef3c",
   "metadata": {},
   "outputs": [
    {
     "data": {
      "text/plain": [
       "0.03520457848872526"
      ]
     },
     "execution_count": 9,
     "metadata": {},
     "output_type": "execute_result"
    }
   ],
   "source": [
    "g(100000000)"
   ]
  }
 ],
 "metadata": {
  "kernelspec": {
   "display_name": "Python 3 (ipykernel)",
   "language": "python",
   "name": "python3"
  },
  "language_info": {
   "codemirror_mode": {
    "name": "ipython",
    "version": 3
   },
   "file_extension": ".py",
   "mimetype": "text/x-python",
   "name": "python",
   "nbconvert_exporter": "python",
   "pygments_lexer": "ipython3",
   "version": "3.10.6"
  }
 },
 "nbformat": 4,
 "nbformat_minor": 5
}
